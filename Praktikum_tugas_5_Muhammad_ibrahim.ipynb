{
  "nbformat": 4,
  "nbformat_minor": 0,
  "metadata": {
    "colab": {
      "provenance": [],
      "authorship_tag": "ABX9TyNTko6TLwZnZ+Fp7mFXVekc",
      "include_colab_link": true
    },
    "kernelspec": {
      "name": "python3",
      "display_name": "Python 3"
    },
    "language_info": {
      "name": "python"
    }
  },
  "cells": [
    {
      "cell_type": "markdown",
      "metadata": {
        "id": "view-in-github",
        "colab_type": "text"
      },
      "source": [
        "<a href=\"https://colab.research.google.com/github/aimbre-txt/Dasar-Dasar-Pemograman-/blob/main/Praktikum_tugas_5_Muhammad_ibrahim.ipynb\" target=\"_parent\"><img src=\"https://colab.research.google.com/assets/colab-badge.svg\" alt=\"Open In Colab\"/></a>"
      ]
    },
    {
      "cell_type": "code",
      "execution_count": 18,
      "metadata": {
        "colab": {
          "base_uri": "https://localhost:8080/"
        },
        "id": "QaHhA4PYdhY1",
        "outputId": "3338d6b2-c514-4caf-c7aa-13fcc83b7332"
      },
      "outputs": [
        {
          "output_type": "stream",
          "name": "stdout",
          "text": [
            "data kendaraan ['Mio mirza', 'motor', 'yamaha', 200, 'lembayung ungu', 3, '140000000', 'matic']\n"
          ]
        }
      ],
      "source": [
        "list = [\"Mio mirza\",\"motor\",200,\"lembayung ungu\",3]\n",
        "list.append(\"140000000\")\n",
        "list.append(\"matic\")\n",
        "list.insert(2,\"yamaha\")\n",
        "\n",
        "print(\"data kendaraan\",list)"
      ]
    },
    {
      "cell_type": "code",
      "source": [
        "print(\"=== PROGAM MENGHITUNG LUAS BANGUN DATAR ===\")\n",
        "print(\"1.masukan luas persegi\")\n",
        "print(\"2.masukan luas lingkaran\")\n",
        "print(\"3.masukan luas segitiga\")\n",
        "\n",
        "pilihan = int(input(\"masukan pilihan :\"))\n",
        "\n",
        "match pilihan:\n",
        " case 1 :\n",
        "  sisi = int(input(\"masukan sisi :\"))\n",
        "  luas = sisi * sisi\n",
        "  print(\"luas persegi :\",luas)\n",
        "\n",
        " case 2 :\n",
        "  jari = int(input(\"masukan jari :\"))\n",
        "  luas = 3.14 * jari * jari\n",
        "  print(\"luas lingkaran\",luas)\n",
        "\n",
        " case 3 :\n",
        "  alas = int(input(\"masukan alas :\"))\n",
        "  tinggi = int(input(\"masukan tinggi:\"))\n",
        "  luas = 0.5 * alas * tinggi\n",
        "  print (\"luas segitiga\",luas)\n",
        " case _:\n",
        "  print(\"pilihan tidak tersedia\")"
      ],
      "metadata": {
        "colab": {
          "base_uri": "https://localhost:8080/"
        },
        "id": "DgkVKvOnx8u7",
        "outputId": "24cd9a81-a7f0-4128-da3e-f7826fadd1c9"
      },
      "execution_count": 30,
      "outputs": [
        {
          "output_type": "stream",
          "name": "stdout",
          "text": [
            "=== PROGAM MENGHITUNG LUAS BANGUN DATAR ===\n",
            "1.masukan luas persegi\n",
            "2.masukan luas lingkaran\n",
            "3.masukan luas segitiga\n",
            "masukan pilihan1\n",
            "masukan sisi :13\n",
            "luas persegi : 169\n"
          ]
        }
      ]
    }
  ]
}