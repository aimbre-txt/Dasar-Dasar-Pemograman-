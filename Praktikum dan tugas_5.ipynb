{
  "nbformat": 4,
  "nbformat_minor": 0,
  "metadata": {
    "colab": {
      "provenance": [],
      "authorship_tag": "ABX9TyM3D3gDYFjeiMraZXfjPssQ",
      "include_colab_link": true
    },
    "kernelspec": {
      "name": "python3",
      "display_name": "Python 3"
    },
    "language_info": {
      "name": "python"
    }
  },
  "cells": [
    {
      "cell_type": "markdown",
      "metadata": {
        "id": "view-in-github",
        "colab_type": "text"
      },
      "source": [
        "<a href=\"https://colab.research.google.com/github/aimbre-txt/Dasar-Dasar-Pemograman-/blob/main/Praktikum%20dan%20tugas_5.ipynb\" target=\"_parent\"><img src=\"https://colab.research.google.com/assets/colab-badge.svg\" alt=\"Open In Colab\"/></a>"
      ]
    },
    {
      "cell_type": "code",
      "execution_count": 18,
      "metadata": {
        "colab": {
          "base_uri": "https://localhost:8080/"
        },
        "id": "QaHhA4PYdhY1",
        "outputId": "3338d6b2-c514-4caf-c7aa-13fcc83b7332"
      },
      "outputs": [
        {
          "output_type": "stream",
          "name": "stdout",
          "text": [
            "data kendaraan ['Mio mirza', 'motor', 'yamaha', 200, 'lembayung ungu', 3, '140000000', 'matic']\n"
          ]
        }
      ],
      "source": [
        "\n",
        "#Tugas 5\n",
        "list = [\"Mio mirza\",\"motor\",200,\"lembayung ungu\",3]\n",
        "list.append(\"140000000\")\n",
        "list.append(\"matic\")\n",
        "list.insert(2,\"yamaha\")\n",
        "\n",
        "print(\"data kendaraan\",list)"
      ]
    },
    {
      "cell_type": "code",
      "source": [
        "\n",
        "#Tugas 5\n",
        "print(\"=== PROGAM MENGHITUNG LUAS BANGUN DATAR ===\")\n",
        "print(\"1.masukan luas persegi\")\n",
        "print(\"2.masukan luas lingkaran\")\n",
        "print(\"3.masukan luas segitiga\")\n",
        "\n",
        "pilihan = int(input(\"masukan pilihan :\"))\n",
        "\n",
        "match pilihan:\n",
        " case 1 :\n",
        "  sisi = int(input(\"masukan sisi :\"))\n",
        "  luas = sisi * sisi\n",
        "  print(\"luas persegi :\",luas)\n",
        "\n",
        " case 2 :\n",
        "  jari = int(input(\"masukan jari :\"))\n",
        "  luas = 3.14 * jari * jari\n",
        "  print(\"luas lingkaran\",luas)\n",
        "\n",
        " case 3 :\n",
        "  alas = int(input(\"masukan alas :\"))\n",
        "  tinggi = int(input(\"masukan tinggi:\"))\n",
        "  luas = 0.5 * alas * tinggi\n",
        "  print (\"luas segitiga\",luas)\n",
        " case _:\n",
        "  print(\"pilihan tidak tersedia\")"
      ],
      "metadata": {
        "colab": {
          "base_uri": "https://localhost:8080/"
        },
        "id": "DgkVKvOnx8u7",
        "outputId": "24cd9a81-a7f0-4128-da3e-f7826fadd1c9"
      },
      "execution_count": 30,
      "outputs": [
        {
          "output_type": "stream",
          "name": "stdout",
          "text": [
            "=== PROGAM MENGHITUNG LUAS BANGUN DATAR ===\n",
            "1.masukan luas persegi\n",
            "2.masukan luas lingkaran\n",
            "3.masukan luas segitiga\n",
            "masukan pilihan1\n",
            "masukan sisi :13\n",
            "luas persegi : 169\n"
          ]
        }
      ]
    },
    {
      "cell_type": "code",
      "source": [
        "#praktikum\n",
        "namakendaraan = \"Beat Ember\"\n",
        "jeniskendaraan = \"motor\"\n",
        "cckendaraan = 120\n",
        "rodakendaraan = 2\n",
        "\n",
        "data_kendaraan = [namakendaraan, jeniskendaraan, cckendaraan, rodakendaraan]\n",
        "print (data_kendaraan)\n",
        "hargakendaraan = 5000\n",
        "tipekendaraan = \"metic\"\n",
        "data_kendaraan.append(\"hargaKendaraan\")\n",
        "data_kendaraan.append(\"tipeKendaraan\")\n",
        "print(data_kendaraan)\n",
        "\n",
        "merkKendaraan = \"Honda\"\n",
        "data_kendaraan.insert(2, merkKendaraan)\n",
        "print(data_kendaraan)"
      ],
      "metadata": {
        "colab": {
          "base_uri": "https://localhost:8080/"
        },
        "id": "mZZwtwge-EI0",
        "outputId": "59962dcd-a3e5-4972-c7f3-1f62ca73f9cf"
      },
      "execution_count": 32,
      "outputs": [
        {
          "output_type": "stream",
          "name": "stdout",
          "text": [
            "['Beat Ember', 'motor', 120, 2]\n",
            "['Beat Ember', 'motor', 120, 2, 'hargaKendaraan', 'tipeKendaraan']\n",
            "['Beat Ember', 'motor', 'Honda', 120, 2, 'hargaKendaraan', 'tipeKendaraan']\n"
          ]
        }
      ]
    }
  ]
}